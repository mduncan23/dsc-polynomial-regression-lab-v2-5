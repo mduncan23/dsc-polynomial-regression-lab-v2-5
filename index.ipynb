{
 "cells": [
  {
   "cell_type": "markdown",
   "metadata": {},
   "source": [
    "# Polynomial Regression - Lab"
   ]
  },
  {
   "cell_type": "markdown",
   "metadata": {},
   "source": [
    "## Introduction"
   ]
  },
  {
   "cell_type": "markdown",
   "metadata": {},
   "source": [
    "In this lab, you'll practice your knowledge on adding polynomial terms to your regression model! "
   ]
  },
  {
   "cell_type": "markdown",
   "metadata": {},
   "source": [
    "## Objectives"
   ]
  },
  {
   "cell_type": "markdown",
   "metadata": {},
   "source": [
    "You will be able to:\n",
    "\n",
    "* Determine if polynomial regression would be useful for a specific model or set of data\n",
    "* Create polynomial terms out of independent variables in linear regression"
   ]
  },
  {
   "cell_type": "markdown",
   "metadata": {},
   "source": [
    "## Dataset"
   ]
  },
  {
   "cell_type": "markdown",
   "metadata": {},
   "source": [
    "For this lab you'll be using some generated data:"
   ]
  },
  {
   "cell_type": "code",
   "execution_count": 1,
   "metadata": {
    "ExecuteTime": {
     "end_time": "2022-12-06T03:34:41.533939Z",
     "start_time": "2022-12-06T03:34:41.238747Z"
    }
   },
   "outputs": [
    {
     "data": {
      "text/html": [
       "<div>\n",
       "<style scoped>\n",
       "    .dataframe tbody tr th:only-of-type {\n",
       "        vertical-align: middle;\n",
       "    }\n",
       "\n",
       "    .dataframe tbody tr th {\n",
       "        vertical-align: top;\n",
       "    }\n",
       "\n",
       "    .dataframe thead th {\n",
       "        text-align: right;\n",
       "    }\n",
       "</style>\n",
       "<table border=\"1\" class=\"dataframe\">\n",
       "  <thead>\n",
       "    <tr style=\"text-align: right;\">\n",
       "      <th></th>\n",
       "      <th>x</th>\n",
       "      <th>y</th>\n",
       "    </tr>\n",
       "  </thead>\n",
       "  <tbody>\n",
       "    <tr>\n",
       "      <th>0</th>\n",
       "      <td>0.000000</td>\n",
       "      <td>0.942870</td>\n",
       "    </tr>\n",
       "    <tr>\n",
       "      <th>1</th>\n",
       "      <td>0.121212</td>\n",
       "      <td>-2.261629</td>\n",
       "    </tr>\n",
       "    <tr>\n",
       "      <th>2</th>\n",
       "      <td>0.242424</td>\n",
       "      <td>3.100749</td>\n",
       "    </tr>\n",
       "    <tr>\n",
       "      <th>3</th>\n",
       "      <td>0.363636</td>\n",
       "      <td>-0.285446</td>\n",
       "    </tr>\n",
       "    <tr>\n",
       "      <th>4</th>\n",
       "      <td>0.484848</td>\n",
       "      <td>-1.012210</td>\n",
       "    </tr>\n",
       "  </tbody>\n",
       "</table>\n",
       "</div>"
      ],
      "text/plain": [
       "          x         y\n",
       "0  0.000000  0.942870\n",
       "1  0.121212 -2.261629\n",
       "2  0.242424  3.100749\n",
       "3  0.363636 -0.285446\n",
       "4  0.484848 -1.012210"
      ]
     },
     "execution_count": 1,
     "metadata": {},
     "output_type": "execute_result"
    }
   ],
   "source": [
    "# Run this cell without changes\n",
    "import numpy as np\n",
    "import pandas as pd\n",
    "import matplotlib.pyplot as plt\n",
    "%matplotlib inline\n",
    "\n",
    "df = pd.read_csv('sample_data.csv')\n",
    "df.head()"
   ]
  },
  {
   "cell_type": "markdown",
   "metadata": {},
   "source": [
    "Let's check out a scatter plot of `x` vs. `y`: "
   ]
  },
  {
   "cell_type": "code",
   "execution_count": 2,
   "metadata": {
    "ExecuteTime": {
     "end_time": "2022-12-06T03:34:42.087671Z",
     "start_time": "2022-12-06T03:34:42.014563Z"
    }
   },
   "outputs": [
    {
     "data": {
      "image/png": "[encoded data removed]",
      "text/plain": [
       "<Figure size 432x288 with 1 Axes>"
      ]
     },
     "metadata": {
      "needs_background": "light"
     },
     "output_type": "display_data"
    }
   ],
   "source": [
    "# Run this cell without changes\n",
    "df.plot.scatter(x=\"x\", y=\"y\");"
   ]
  },
  {
   "cell_type": "markdown",
   "metadata": {},
   "source": [
    "You will notice that the data is clearly of non-linear shape. Begin to think about what degree polynomial you believe will fit it best.\n",
    "\n",
    "You will fit several different models with different polynomial degrees, then plot them in the same plot at the end."
   ]
  },
  {
   "cell_type": "code",
   "execution_count": 3,
   "metadata": {
    "ExecuteTime": {
     "end_time": "2022-12-06T03:34:43.162650Z",
     "start_time": "2022-12-06T03:34:42.750376Z"
    }
   },
   "outputs": [],
   "source": [
    "# Your code here - import StatsModels and separate the data into X and y\n",
    "import statsmodels.api as sm\n",
    "\n",
    "X = df[['x']]\n",
    "y = df['y']"
   ]
  },
  {
   "cell_type": "markdown",
   "metadata": {},
   "source": [
    "## Build and Evaluate a Quadratic Model\n",
    "\n",
    "This model should include a constant, `x`, and `x` squared. You can use `pandas` or `PolynomialFeatures` to create the squared term."
   ]
  },
  {
   "cell_type": "code",
   "execution_count": 4,
   "metadata": {
    "ExecuteTime": {
     "end_time": "2022-12-06T03:34:44.023480Z",
     "start_time": "2022-12-06T03:34:43.790344Z"
    }
   },
   "outputs": [],
   "source": [
    "from sklearn.preprocessing import PolynomialFeatures"
   ]
  },
  {
   "cell_type": "code",
   "execution_count": 9,
   "metadata": {
    "ExecuteTime": {
     "end_time": "2022-12-06T03:35:52.458907Z",
     "start_time": "2022-12-06T03:35:52.453648Z"
    }
   },
   "outputs": [],
   "source": [
    "# Your code here - prepare quadratic data and fit a model\n",
    "# using pandas\n",
    "X2= X.copy()\n",
    "X2['x^2'] = X2 **2"
   ]
  },
  {
   "cell_type": "code",
   "execution_count": 12,
   "metadata": {
    "ExecuteTime": {
     "end_time": "2022-12-06T03:36:49.821120Z",
     "start_time": "2022-12-06T03:36:49.802647Z"
    }
   },
   "outputs": [],
   "source": [
    "model = sm.OLS(y, sm.add_constant(X2)).fit()"
   ]
  },
  {
   "cell_type": "code",
   "execution_count": 14,
   "metadata": {
    "ExecuteTime": {
     "end_time": "2022-12-06T03:37:08.003768Z",
     "start_time": "2022-12-06T03:37:07.987485Z"
    }
   },
   "outputs": [
    {
     "data": {
      "text/html": [
       "<table class=\"simpletable\">\n",
       "<caption>OLS Regression Results</caption>\n",
       "<tr>\n",
       "  <th>Dep. Variable:</th>            <td>y</td>        <th>  R-squared:         </th> <td>   0.005</td>\n",
       "</tr>\n",
       "<tr>\n",
       "  <th>Model:</th>                   <td>OLS</td>       <th>  Adj. R-squared:    </th> <td>  -0.016</td>\n",
       "</tr>\n",
       "<tr>\n",
       "  <th>Method:</th>             <td>Least Squares</td>  <th>  F-statistic:       </th> <td>  0.2366</td>\n",
       "</tr>\n",
       "<tr>\n",
       "  <th>Date:</th>             <td>Mon, 05 Dec 2022</td> <th>  Prob (F-statistic):</th>  <td> 0.790</td> \n",
       "</tr>\n",
       "<tr>\n",
       "  <th>Time:</th>                 <td>22:37:07</td>     <th>  Log-Likelihood:    </th> <td> -299.64</td>\n",
       "</tr>\n",
       "<tr>\n",
       "  <th>No. Observations:</th>      <td>   100</td>      <th>  AIC:               </th> <td>   605.3</td>\n",
       "</tr>\n",
       "<tr>\n",
       "  <th>Df Residuals:</th>          <td>    97</td>      <th>  BIC:               </th> <td>   613.1</td>\n",
       "</tr>\n",
       "<tr>\n",
       "  <th>Df Model:</th>              <td>     2</td>      <th>                     </th>     <td> </td>   \n",
       "</tr>\n",
       "<tr>\n",
       "  <th>Covariance Type:</th>      <td>nonrobust</td>    <th>                     </th>     <td> </td>   \n",
       "</tr>\n",
       "</table>\n",
       "<table class=\"simpletable\">\n",
       "<tr>\n",
       "    <td></td>       <th>coef</th>     <th>std err</th>      <th>t</th>      <th>P>|t|</th>  <th>[0.025</th>    <th>0.975]</th>  \n",
       "</tr>\n",
       "<tr>\n",
       "  <th>const</th> <td>    0.1127</td> <td>    1.446</td> <td>    0.078</td> <td> 0.938</td> <td>   -2.757</td> <td>    2.983</td>\n",
       "</tr>\n",
       "<tr>\n",
       "  <th>x</th>     <td>   -0.0744</td> <td>    0.557</td> <td>   -0.134</td> <td> 0.894</td> <td>   -1.180</td> <td>    1.031</td>\n",
       "</tr>\n",
       "<tr>\n",
       "  <th>x^2</th>   <td>   -0.0018</td> <td>    0.045</td> <td>   -0.041</td> <td> 0.967</td> <td>   -0.091</td> <td>    0.087</td>\n",
       "</tr>\n",
       "</table>\n",
       "<table class=\"simpletable\">\n",
       "<tr>\n",
       "  <th>Omnibus:</th>       <td> 1.048</td> <th>  Durbin-Watson:     </th> <td>   0.426</td>\n",
       "</tr>\n",
       "<tr>\n",
       "  <th>Prob(Omnibus):</th> <td> 0.592</td> <th>  Jarque-Bera (JB):  </th> <td>   0.803</td>\n",
       "</tr>\n",
       "<tr>\n",
       "  <th>Skew:</th>          <td>-0.219</td> <th>  Prob(JB):          </th> <td>   0.669</td>\n",
       "</tr>\n",
       "<tr>\n",
       "  <th>Kurtosis:</th>      <td> 3.037</td> <th>  Cond. No.          </th> <td>    203.</td>\n",
       "</tr>\n",
       "</table><br/><br/>Notes:<br/>[1] Standard Errors assume that the covariance matrix of the errors is correctly specified."
      ],
      "text/plain": [
       "<class 'statsmodels.iolib.summary.Summary'>\n",
       "\"\"\"\n",
       "                            OLS Regression Results                            \n",
       "==============================================================================\n",
       "Dep. Variable:                      y   R-squared:                       0.005\n",
       "Model:                            OLS   Adj. R-squared:                 -0.016\n",
       "Method:                 Least Squares   F-statistic:                    0.2366\n",
       "Date:                Mon, 05 Dec 2022   Prob (F-statistic):              0.790\n",
       "Time:                        22:37:07   Log-Likelihood:                -299.64\n",
       "No. Observations:                 100   AIC:                             605.3\n",
       "Df Residuals:                      97   BIC:                             613.1\n",
       "Df Model:                           2                                         \n",
       "Covariance Type:            nonrobust                                         \n",
       "==============================================================================\n",
       "                 coef    std err          t      P>|t|      [0.025      0.975]\n",
       "------------------------------------------------------------------------------\n",
       "const          0.1127      1.446      0.078      0.938      -2.757       2.983\n",
       "x             -0.0744      0.557     -0.134      0.894      -1.180       1.031\n",
       "x^2           -0.0018      0.045     -0.041      0.967      -0.091       0.087\n",
       "==============================================================================\n",
       "Omnibus:                        1.048   Durbin-Watson:                   0.426\n",
       "Prob(Omnibus):                  0.592   Jarque-Bera (JB):                0.803\n",
       "Skew:                          -0.219   Prob(JB):                        0.669\n",
       "Kurtosis:                       3.037   Cond. No.                         203.\n",
       "==============================================================================\n",
       "\n",
       "Notes:\n",
       "[1] Standard Errors assume that the covariance matrix of the errors is correctly specified.\n",
       "\"\"\""
      ]
     },
     "execution_count": 14,
     "metadata": {},
     "output_type": "execute_result"
    }
   ],
   "source": [
    "model.summary()"
   ]
  },
  {
   "cell_type": "code",
   "execution_count": 6,
   "metadata": {
    "ExecuteTime": {
     "end_time": "2022-12-06T03:34:44.739083Z",
     "start_time": "2022-12-06T03:34:44.726450Z"
    }
   },
   "outputs": [],
   "source": [
    "# using SKLearn\n",
    "poly_2 = PolynomialFeatures(degree=2)\n",
    "\n",
    "x_2 = pd.DataFrame(poly_2.fit_transform(X), columns=poly_2.get_feature_names(input_features=X.columns))\n",
    "squared_results = sm.OLS(y, x_2).fit()"
   ]
  },
  {
   "cell_type": "code",
   "execution_count": 10,
   "metadata": {
    "ExecuteTime": {
     "end_time": "2022-12-06T03:36:27.000323Z",
     "start_time": "2022-12-06T03:36:26.996657Z"
    }
   },
   "outputs": [],
   "source": [
    "model_2 = sm.OLS(y, x_2).fit()"
   ]
  },
  {
   "cell_type": "code",
   "execution_count": 11,
   "metadata": {
    "ExecuteTime": {
     "end_time": "2022-12-06T03:36:27.711803Z",
     "start_time": "2022-12-06T03:36:27.692771Z"
    }
   },
   "outputs": [
    {
     "data": {
      "text/html": [
       "<table class=\"simpletable\">\n",
       "<caption>OLS Regression Results</caption>\n",
       "<tr>\n",
       "  <th>Dep. Variable:</th>            <td>y</td>        <th>  R-squared:         </th> <td>   0.005</td>\n",
       "</tr>\n",
       "<tr>\n",
       "  <th>Model:</th>                   <td>OLS</td>       <th>  Adj. R-squared:    </th> <td>  -0.016</td>\n",
       "</tr>\n",
       "<tr>\n",
       "  <th>Method:</th>             <td>Least Squares</td>  <th>  F-statistic:       </th> <td>  0.2366</td>\n",
       "</tr>\n",
       "<tr>\n",
       "  <th>Date:</th>             <td>Mon, 05 Dec 2022</td> <th>  Prob (F-statistic):</th>  <td> 0.790</td> \n",
       "</tr>\n",
       "<tr>\n",
       "  <th>Time:</th>                 <td>22:36:27</td>     <th>  Log-Likelihood:    </th> <td> -299.64</td>\n",
       "</tr>\n",
       "<tr>\n",
       "  <th>No. Observations:</th>      <td>   100</td>      <th>  AIC:               </th> <td>   605.3</td>\n",
       "</tr>\n",
       "<tr>\n",
       "  <th>Df Residuals:</th>          <td>    97</td>      <th>  BIC:               </th> <td>   613.1</td>\n",
       "</tr>\n",
       "<tr>\n",
       "  <th>Df Model:</th>              <td>     2</td>      <th>                     </th>     <td> </td>   \n",
       "</tr>\n",
       "<tr>\n",
       "  <th>Covariance Type:</th>      <td>nonrobust</td>    <th>                     </th>     <td> </td>   \n",
       "</tr>\n",
       "</table>\n",
       "<table class=\"simpletable\">\n",
       "<tr>\n",
       "   <td></td>      <th>coef</th>     <th>std err</th>      <th>t</th>      <th>P>|t|</th>  <th>[0.025</th>    <th>0.975]</th>  \n",
       "</tr>\n",
       "<tr>\n",
       "  <th>1</th>   <td>    0.1127</td> <td>    1.446</td> <td>    0.078</td> <td> 0.938</td> <td>   -2.757</td> <td>    2.983</td>\n",
       "</tr>\n",
       "<tr>\n",
       "  <th>x</th>   <td>   -0.0744</td> <td>    0.557</td> <td>   -0.134</td> <td> 0.894</td> <td>   -1.180</td> <td>    1.031</td>\n",
       "</tr>\n",
       "<tr>\n",
       "  <th>x^2</th> <td>   -0.0018</td> <td>    0.045</td> <td>   -0.041</td> <td> 0.967</td> <td>   -0.091</td> <td>    0.087</td>\n",
       "</tr>\n",
       "</table>\n",
       "<table class=\"simpletable\">\n",
       "<tr>\n",
       "  <th>Omnibus:</th>       <td> 1.048</td> <th>  Durbin-Watson:     </th> <td>   0.426</td>\n",
       "</tr>\n",
       "<tr>\n",
       "  <th>Prob(Omnibus):</th> <td> 0.592</td> <th>  Jarque-Bera (JB):  </th> <td>   0.803</td>\n",
       "</tr>\n",
       "<tr>\n",
       "  <th>Skew:</th>          <td>-0.219</td> <th>  Prob(JB):          </th> <td>   0.669</td>\n",
       "</tr>\n",
       "<tr>\n",
       "  <th>Kurtosis:</th>      <td> 3.037</td> <th>  Cond. No.          </th> <td>    203.</td>\n",
       "</tr>\n",
       "</table><br/><br/>Notes:<br/>[1] Standard Errors assume that the covariance matrix of the errors is correctly specified."
      ],
      "text/plain": [
       "<class 'statsmodels.iolib.summary.Summary'>\n",
       "\"\"\"\n",
       "                            OLS Regression Results                            \n",
       "==============================================================================\n",
       "Dep. Variable:                      y   R-squared:                       0.005\n",
       "Model:                            OLS   Adj. R-squared:                 -0.016\n",
       "Method:                 Least Squares   F-statistic:                    0.2366\n",
       "Date:                Mon, 05 Dec 2022   Prob (F-statistic):              0.790\n",
       "Time:                        22:36:27   Log-Likelihood:                -299.64\n",
       "No. Observations:                 100   AIC:                             605.3\n",
       "Df Residuals:                      97   BIC:                             613.1\n",
       "Df Model:                           2                                         \n",
       "Covariance Type:            nonrobust                                         \n",
       "==============================================================================\n",
       "                 coef    std err          t      P>|t|      [0.025      0.975]\n",
       "------------------------------------------------------------------------------\n",
       "1              0.1127      1.446      0.078      0.938      -2.757       2.983\n",
       "x             -0.0744      0.557     -0.134      0.894      -1.180       1.031\n",
       "x^2           -0.0018      0.045     -0.041      0.967      -0.091       0.087\n",
       "==============================================================================\n",
       "Omnibus:                        1.048   Durbin-Watson:                   0.426\n",
       "Prob(Omnibus):                  0.592   Jarque-Bera (JB):                0.803\n",
       "Skew:                          -0.219   Prob(JB):                        0.669\n",
       "Kurtosis:                       3.037   Cond. No.                         203.\n",
       "==============================================================================\n",
       "\n",
       "Notes:\n",
       "[1] Standard Errors assume that the covariance matrix of the errors is correctly specified.\n",
       "\"\"\""
      ]
     },
     "execution_count": 11,
     "metadata": {},
     "output_type": "execute_result"
    }
   ],
   "source": [
    "# Your code here - evaluate (adjusted) R-Squared and coefficient p-values\n",
    "model_2.summary()"
   ]
  },
  {
   "cell_type": "code",
   "execution_count": 8,
   "metadata": {
    "ExecuteTime": {
     "end_time": "2022-12-06T02:56:44.284740Z",
     "start_time": "2022-12-06T02:56:44.268149Z"
    }
   },
   "outputs": [
    {
     "data": {
      "text/plain": [
       "'\\nThis model is terrible, the r-squared only accounts for 0.5% of the \\nvariance in the data and nothing is statistically significant\\n'"
      ]
     },
     "execution_count": 8,
     "metadata": {},
     "output_type": "execute_result"
    }
   ],
   "source": [
    "# Your written answer here - summarize findings\n",
    "'''\n",
    "This model is terrible, the r-squared only accounts for -.16 of the \n",
    "variance in the data and nothing is statistically significant\n",
    "'''"
   ]
  },
  {
   "cell_type": "markdown",
   "metadata": {},
   "source": [
    "<details>\n",
    "    <summary style=\"cursor: pointer\"><b>Answer (click to reveal)</b></summary>\n",
    "    \n",
    "This is not a good model. Because we have multiple terms and are explaining so little of the variance in `y`, we actually have a negative adjusted R-Squared.\n",
    "\n",
    "None of the coefficients are statistically significant at an alpha of 0.05\n",
    "    \n",
    "</details>"
   ]
  },
  {
   "cell_type": "markdown",
   "metadata": {},
   "source": [
    "## Build and Evaluate a 4th Degree Polynomial Model\n",
    "\n",
    "In other words, the model should include $x^0$ (intercept), $x^1$, $x^2$, $x^3$, and $x^4$ terms.\n",
    "\n",
    "At this point we recommend importing and using `PolynomialFeatures` if you haven't already!"
   ]
  },
  {
   "cell_type": "code",
   "execution_count": 5,
   "metadata": {
    "ExecuteTime": {
     "end_time": "2022-12-06T03:28:49.381194Z",
     "start_time": "2022-12-06T03:28:49.039977Z"
    }
   },
   "outputs": [],
   "source": []
  },
  {
   "cell_type": "code",
   "execution_count": 15,
   "metadata": {
    "ExecuteTime": {
     "end_time": "2022-12-06T03:38:03.116646Z",
     "start_time": "2022-12-06T03:38:03.106143Z"
    }
   },
   "outputs": [],
   "source": [
    "# # Your code here - prepare 4th degree polynomial data and fit a model\n",
    "poly_4 = PolynomialFeatures(degree=4)\n",
    "X_4 = pd.DataFrame(poly_4.fit_transform(X), \n",
    "                   columns=poly_4.get_feature_names(input_features=X.columns))\n",
    "\n",
    "model_4 = sm.OLS(y, X_4).fit()"
   ]
  },
  {
   "cell_type": "code",
   "execution_count": 16,
   "metadata": {
    "ExecuteTime": {
     "end_time": "2022-12-06T03:38:04.116050Z",
     "start_time": "2022-12-06T03:38:04.106346Z"
    }
   },
   "outputs": [],
   "source": [
    "poly_4 = PolynomialFeatures(degree=4)\n",
    "\n",
    "x_4 = pd.DataFrame(poly_4.fit_transform(X), columns=poly_4.get_feature_names(input_features=X.columns))\n",
    "poly_4_results = sm.OLS(y, x_4).fit()"
   ]
  },
  {
   "cell_type": "code",
   "execution_count": 17,
   "metadata": {
    "ExecuteTime": {
     "end_time": "2022-12-06T03:33:20.285934Z",
     "start_time": "2022-12-06T03:33:20.265653Z"
    }
   },
   "outputs": [
    {
     "data": {
      "text/html": [
       "<table class=\"simpletable\">\n",
       "<caption>OLS Regression Results</caption>\n",
       "<tr>\n",
       "  <th>Dep. Variable:</th>            <td>y</td>        <th>  R-squared:         </th> <td>   0.584</td>\n",
       "</tr>\n",
       "<tr>\n",
       "  <th>Model:</th>                   <td>OLS</td>       <th>  Adj. R-squared:    </th> <td>   0.567</td>\n",
       "</tr>\n",
       "<tr>\n",
       "  <th>Method:</th>             <td>Least Squares</td>  <th>  F-statistic:       </th> <td>   33.38</td>\n",
       "</tr>\n",
       "<tr>\n",
       "  <th>Date:</th>             <td>Mon, 05 Dec 2022</td> <th>  Prob (F-statistic):</th> <td>2.24e-17</td>\n",
       "</tr>\n",
       "<tr>\n",
       "  <th>Time:</th>                 <td>22:33:20</td>     <th>  Log-Likelihood:    </th> <td> -255.99</td>\n",
       "</tr>\n",
       "<tr>\n",
       "  <th>No. Observations:</th>      <td>   100</td>      <th>  AIC:               </th> <td>   522.0</td>\n",
       "</tr>\n",
       "<tr>\n",
       "  <th>Df Residuals:</th>          <td>    95</td>      <th>  BIC:               </th> <td>   535.0</td>\n",
       "</tr>\n",
       "<tr>\n",
       "  <th>Df Model:</th>              <td>     4</td>      <th>                     </th>     <td> </td>   \n",
       "</tr>\n",
       "<tr>\n",
       "  <th>Covariance Type:</th>      <td>nonrobust</td>    <th>                     </th>     <td> </td>   \n",
       "</tr>\n",
       "</table>\n",
       "<table class=\"simpletable\">\n",
       "<tr>\n",
       "   <td></td>      <th>coef</th>     <th>std err</th>      <th>t</th>      <th>P>|t|</th>  <th>[0.025</th>    <th>0.975]</th>  \n",
       "</tr>\n",
       "<tr>\n",
       "  <th>1</th>   <td>    5.8590</td> <td>    1.514</td> <td>    3.870</td> <td> 0.000</td> <td>    2.853</td> <td>    8.864</td>\n",
       "</tr>\n",
       "<tr>\n",
       "  <th>x</th>   <td>  -12.6406</td> <td>    1.767</td> <td>   -7.155</td> <td> 0.000</td> <td>  -16.148</td> <td>   -9.133</td>\n",
       "</tr>\n",
       "<tr>\n",
       "  <th>x^2</th> <td>    5.3802</td> <td>    0.603</td> <td>    8.921</td> <td> 0.000</td> <td>    4.183</td> <td>    6.577</td>\n",
       "</tr>\n",
       "<tr>\n",
       "  <th>x^3</th> <td>   -0.7563</td> <td>    0.076</td> <td>   -9.992</td> <td> 0.000</td> <td>   -0.907</td> <td>   -0.606</td>\n",
       "</tr>\n",
       "<tr>\n",
       "  <th>x^4</th> <td>    0.0333</td> <td>    0.003</td> <td>   10.632</td> <td> 0.000</td> <td>    0.027</td> <td>    0.039</td>\n",
       "</tr>\n",
       "</table>\n",
       "<table class=\"simpletable\">\n",
       "<tr>\n",
       "  <th>Omnibus:</th>       <td> 1.211</td> <th>  Durbin-Watson:     </th> <td>   1.007</td>\n",
       "</tr>\n",
       "<tr>\n",
       "  <th>Prob(Omnibus):</th> <td> 0.546</td> <th>  Jarque-Bera (JB):  </th> <td>   1.177</td>\n",
       "</tr>\n",
       "<tr>\n",
       "  <th>Skew:</th>          <td>-0.257</td> <th>  Prob(JB):          </th> <td>   0.555</td>\n",
       "</tr>\n",
       "<tr>\n",
       "  <th>Kurtosis:</th>      <td> 2.861</td> <th>  Cond. No.          </th> <td>5.08e+04</td>\n",
       "</tr>\n",
       "</table><br/><br/>Notes:<br/>[1] Standard Errors assume that the covariance matrix of the errors is correctly specified.<br/>[2] The condition number is large, 5.08e+04. This might indicate that there are<br/>strong multicollinearity or other numerical problems."
      ],
      "text/plain": [
       "<class 'statsmodels.iolib.summary.Summary'>\n",
       "\"\"\"\n",
       "                            OLS Regression Results                            \n",
       "==============================================================================\n",
       "Dep. Variable:                      y   R-squared:                       0.584\n",
       "Model:                            OLS   Adj. R-squared:                  0.567\n",
       "Method:                 Least Squares   F-statistic:                     33.38\n",
       "Date:                Mon, 05 Dec 2022   Prob (F-statistic):           2.24e-17\n",
       "Time:                        22:33:20   Log-Likelihood:                -255.99\n",
       "No. Observations:                 100   AIC:                             522.0\n",
       "Df Residuals:                      95   BIC:                             535.0\n",
       "Df Model:                           4                                         \n",
       "Covariance Type:            nonrobust                                         \n",
       "==============================================================================\n",
       "                 coef    std err          t      P>|t|      [0.025      0.975]\n",
       "------------------------------------------------------------------------------\n",
       "1              5.8590      1.514      3.870      0.000       2.853       8.864\n",
       "x            -12.6406      1.767     -7.155      0.000     -16.148      -9.133\n",
       "x^2            5.3802      0.603      8.921      0.000       4.183       6.577\n",
       "x^3           -0.7563      0.076     -9.992      0.000      -0.907      -0.606\n",
       "x^4            0.0333      0.003     10.632      0.000       0.027       0.039\n",
       "==============================================================================\n",
       "Omnibus:                        1.211   Durbin-Watson:                   1.007\n",
       "Prob(Omnibus):                  0.546   Jarque-Bera (JB):                1.177\n",
       "Skew:                          -0.257   Prob(JB):                        0.555\n",
       "Kurtosis:                       2.861   Cond. No.                     5.08e+04\n",
       "==============================================================================\n",
       "\n",
       "Notes:\n",
       "[1] Standard Errors assume that the covariance matrix of the errors is correctly specified.\n",
       "[2] The condition number is large, 5.08e+04. This might indicate that there are\n",
       "strong multicollinearity or other numerical problems.\n",
       "\"\"\""
      ]
     },
     "execution_count": 17,
     "metadata": {},
     "output_type": "execute_result"
    }
   ],
   "source": [
    "# Your code here - evaluate (adjusted) R-Squared and coefficient p-values\n",
    "model_4.summary()"
   ]
  },
  {
   "cell_type": "code",
   "execution_count": null,
   "metadata": {},
   "outputs": [],
   "source": [
    "# Your written answer here - summarize findings\n",
    "'''\n",
    "model is better and explains 57% of variance in our data. \n",
    "model is stat sig and so are all coefs\n",
    "\n",
    "'''"
   ]
  },
  {
   "cell_type": "markdown",
   "metadata": {},
   "source": [
    "<details>\n",
    "    <summary style=\"cursor: pointer\"><b>Answer (click to reveal)</b></summary>\n",
    "    \n",
    "This is much better. We are explaining 57-58% of the variance in the target and all of our coefficients are statistically significant at an alpha of 0.05.\n",
    "    \n",
    "</details>"
   ]
  },
  {
   "cell_type": "markdown",
   "metadata": {},
   "source": [
    "## Build and Evaluate an 8th Degree Polynomial Model\n",
    "\n",
    "This model should include $x^0$ through $x^8$."
   ]
  },
  {
   "cell_type": "code",
   "execution_count": 17,
   "metadata": {
    "ExecuteTime": {
     "end_time": "2022-12-06T03:41:59.992275Z",
     "start_time": "2022-12-06T03:41:59.979757Z"
    }
   },
   "outputs": [],
   "source": [
    "# Your code here - prepare 8th degree polynomial data and fit a model\n",
    "poly_8 = PolynomialFeatures(degree=8)\n",
    "X_8 = pd.DataFrame(poly_8.fit_transform(X), \n",
    "                   columns=poly_8.get_feature_names(input_features=X.columns))\n",
    "\n",
    "model_8 = sm.OLS(y, X_8).fit()"
   ]
  },
  {
   "cell_type": "code",
   "execution_count": 18,
   "metadata": {
    "ExecuteTime": {
     "end_time": "2022-12-06T03:43:07.878927Z",
     "start_time": "2022-12-06T03:43:07.866034Z"
    }
   },
   "outputs": [
    {
     "data": {
      "text/html": [
       "<table class=\"simpletable\">\n",
       "<caption>OLS Regression Results</caption>\n",
       "<tr>\n",
       "  <th>Dep. Variable:</th>            <td>y</td>        <th>  R-squared:         </th> <td>   0.834</td>\n",
       "</tr>\n",
       "<tr>\n",
       "  <th>Model:</th>                   <td>OLS</td>       <th>  Adj. R-squared:    </th> <td>   0.819</td>\n",
       "</tr>\n",
       "<tr>\n",
       "  <th>Method:</th>             <td>Least Squares</td>  <th>  F-statistic:       </th> <td>   56.95</td>\n",
       "</tr>\n",
       "<tr>\n",
       "  <th>Date:</th>             <td>Mon, 05 Dec 2022</td> <th>  Prob (F-statistic):</th> <td>3.93e-32</td>\n",
       "</tr>\n",
       "<tr>\n",
       "  <th>Time:</th>                 <td>22:43:07</td>     <th>  Log-Likelihood:    </th> <td> -210.25</td>\n",
       "</tr>\n",
       "<tr>\n",
       "  <th>No. Observations:</th>      <td>   100</td>      <th>  AIC:               </th> <td>   438.5</td>\n",
       "</tr>\n",
       "<tr>\n",
       "  <th>Df Residuals:</th>          <td>    91</td>      <th>  BIC:               </th> <td>   461.9</td>\n",
       "</tr>\n",
       "<tr>\n",
       "  <th>Df Model:</th>              <td>     8</td>      <th>                     </th>     <td> </td>   \n",
       "</tr>\n",
       "<tr>\n",
       "  <th>Covariance Type:</th>      <td>nonrobust</td>    <th>                     </th>     <td> </td>   \n",
       "</tr>\n",
       "</table>\n",
       "<table class=\"simpletable\">\n",
       "<tr>\n",
       "   <td></td>      <th>coef</th>     <th>std err</th>      <th>t</th>      <th>P>|t|</th>  <th>[0.025</th>    <th>0.975]</th>  \n",
       "</tr>\n",
       "<tr>\n",
       "  <th>1</th>   <td>    0.6335</td> <td>    1.550</td> <td>    0.409</td> <td> 0.684</td> <td>   -2.446</td> <td>    3.713</td>\n",
       "</tr>\n",
       "<tr>\n",
       "  <th>x</th>   <td>   -3.1197</td> <td>    6.237</td> <td>   -0.500</td> <td> 0.618</td> <td>  -15.508</td> <td>    9.269</td>\n",
       "</tr>\n",
       "<tr>\n",
       "  <th>x^2</th> <td>    7.2069</td> <td>    8.019</td> <td>    0.899</td> <td> 0.371</td> <td>   -8.722</td> <td>   23.135</td>\n",
       "</tr>\n",
       "<tr>\n",
       "  <th>x^3</th> <td>   -5.9515</td> <td>    4.602</td> <td>   -1.293</td> <td> 0.199</td> <td>  -15.092</td> <td>    3.189</td>\n",
       "</tr>\n",
       "<tr>\n",
       "  <th>x^4</th> <td>    2.0415</td> <td>    1.388</td> <td>    1.471</td> <td> 0.145</td> <td>   -0.716</td> <td>    4.799</td>\n",
       "</tr>\n",
       "<tr>\n",
       "  <th>x^5</th> <td>   -0.3359</td> <td>    0.236</td> <td>   -1.425</td> <td> 0.158</td> <td>   -0.804</td> <td>    0.132</td>\n",
       "</tr>\n",
       "<tr>\n",
       "  <th>x^6</th> <td>    0.0276</td> <td>    0.023</td> <td>    1.220</td> <td> 0.226</td> <td>   -0.017</td> <td>    0.073</td>\n",
       "</tr>\n",
       "<tr>\n",
       "  <th>x^7</th> <td>   -0.0011</td> <td>    0.001</td> <td>   -0.925</td> <td> 0.357</td> <td>   -0.003</td> <td>    0.001</td>\n",
       "</tr>\n",
       "<tr>\n",
       "  <th>x^8</th> <td> 1.418e-05</td> <td> 2.39e-05</td> <td>    0.594</td> <td> 0.554</td> <td>-3.33e-05</td> <td> 6.16e-05</td>\n",
       "</tr>\n",
       "</table>\n",
       "<table class=\"simpletable\">\n",
       "<tr>\n",
       "  <th>Omnibus:</th>       <td>11.607</td> <th>  Durbin-Watson:     </th> <td>   2.456</td>\n",
       "</tr>\n",
       "<tr>\n",
       "  <th>Prob(Omnibus):</th> <td> 0.003</td> <th>  Jarque-Bera (JB):  </th> <td>  12.576</td>\n",
       "</tr>\n",
       "<tr>\n",
       "  <th>Skew:</th>          <td>-0.700</td> <th>  Prob(JB):          </th> <td> 0.00186</td>\n",
       "</tr>\n",
       "<tr>\n",
       "  <th>Kurtosis:</th>      <td> 4.030</td> <th>  Cond. No.          </th> <td>5.83e+09</td>\n",
       "</tr>\n",
       "</table><br/><br/>Notes:<br/>[1] Standard Errors assume that the covariance matrix of the errors is correctly specified.<br/>[2] The condition number is large, 5.83e+09. This might indicate that there are<br/>strong multicollinearity or other numerical problems."
      ],
      "text/plain": [
       "<class 'statsmodels.iolib.summary.Summary'>\n",
       "\"\"\"\n",
       "                            OLS Regression Results                            \n",
       "==============================================================================\n",
       "Dep. Variable:                      y   R-squared:                       0.834\n",
       "Model:                            OLS   Adj. R-squared:                  0.819\n",
       "Method:                 Least Squares   F-statistic:                     56.95\n",
       "Date:                Mon, 05 Dec 2022   Prob (F-statistic):           3.93e-32\n",
       "Time:                        22:43:07   Log-Likelihood:                -210.25\n",
       "No. Observations:                 100   AIC:                             438.5\n",
       "Df Residuals:                      91   BIC:                             461.9\n",
       "Df Model:                           8                                         \n",
       "Covariance Type:            nonrobust                                         \n",
       "==============================================================================\n",
       "                 coef    std err          t      P>|t|      [0.025      0.975]\n",
       "------------------------------------------------------------------------------\n",
       "1              0.6335      1.550      0.409      0.684      -2.446       3.713\n",
       "x             -3.1197      6.237     -0.500      0.618     -15.508       9.269\n",
       "x^2            7.2069      8.019      0.899      0.371      -8.722      23.135\n",
       "x^3           -5.9515      4.602     -1.293      0.199     -15.092       3.189\n",
       "x^4            2.0415      1.388      1.471      0.145      -0.716       4.799\n",
       "x^5           -0.3359      0.236     -1.425      0.158      -0.804       0.132\n",
       "x^6            0.0276      0.023      1.220      0.226      -0.017       0.073\n",
       "x^7           -0.0011      0.001     -0.925      0.357      -0.003       0.001\n",
       "x^8         1.418e-05   2.39e-05      0.594      0.554   -3.33e-05    6.16e-05\n",
       "==============================================================================\n",
       "Omnibus:                       11.607   Durbin-Watson:                   2.456\n",
       "Prob(Omnibus):                  0.003   Jarque-Bera (JB):               12.576\n",
       "Skew:                          -0.700   Prob(JB):                      0.00186\n",
       "Kurtosis:                       4.030   Cond. No.                     5.83e+09\n",
       "==============================================================================\n",
       "\n",
       "Notes:\n",
       "[1] Standard Errors assume that the covariance matrix of the errors is correctly specified.\n",
       "[2] The condition number is large, 5.83e+09. This might indicate that there are\n",
       "strong multicollinearity or other numerical problems.\n",
       "\"\"\""
      ]
     },
     "execution_count": 18,
     "metadata": {},
     "output_type": "execute_result"
    }
   ],
   "source": [
    "# Your code here - evaluate (adjusted) R-Squared and coefficient p-values\n",
    "model_8.summary()"
   ]
  },
  {
   "cell_type": "code",
   "execution_count": null,
   "metadata": {},
   "outputs": [],
   "source": [
    "# Your written answer here - summarize findings\n",
    "'''\n",
    "variance is much better explained but none of the coefs are stat sig\n",
    "'''"
   ]
  },
  {
   "cell_type": "markdown",
   "metadata": {},
   "source": [
    "<details>\n",
    "    <summary style=\"cursor: pointer\"><b>Answer (click to reveal)</b></summary>\n",
    "    \n",
    "Our R-Squared is higher, but none of the coefficients are statistically significant at an alpha of 0.05 any more. If what we care about is an inferential understanding of the data, this is too high a degree of the polynomial.\n",
    "    \n",
    "</details>"
   ]
  },
  {
   "cell_type": "markdown",
   "metadata": {},
   "source": [
    "## Plot All Models\n",
    "\n",
    "Build a single plot that shows the raw data as a scatter plot, as well as all of the models you have developed as line graphs. Make sure that everything is labeled so you can tell the different models apart!"
   ]
  },
  {
   "cell_type": "code",
   "execution_count": 33,
   "metadata": {
    "ExecuteTime": {
     "end_time": "2022-12-06T03:52:53.876782Z",
     "start_time": "2022-12-06T03:52:53.866283Z"
    }
   },
   "outputs": [
    {
     "data": {
      "text/plain": [
       "0     0.633500\n",
       "1     0.351073\n",
       "2     0.222737\n",
       "3     0.199490\n",
       "4     0.240932\n",
       "        ...   \n",
       "95    6.101630\n",
       "96    7.101103\n",
       "97    7.820017\n",
       "98    8.174547\n",
       "99    8.071098\n",
       "Length: 100, dtype: float64"
      ]
     },
     "execution_count": 33,
     "metadata": {},
     "output_type": "execute_result"
    }
   ],
   "source": [
    "model_8.predict(sm.add_constant(X_8))"
   ]
  },
  {
   "cell_type": "code",
   "execution_count": 85,
   "metadata": {
    "ExecuteTime": {
     "end_time": "2022-12-06T04:19:54.505999Z",
     "start_time": "2022-12-06T04:19:54.399180Z"
    }
   },
   "outputs": [
    {
     "name": "stdout",
     "output_type": "stream",
     "text": [
      "1\n",
      "2\n",
      "3\n"
     ]
    },
    {
     "data": {
      "image/png": "[encoded data removed]",
      "text/plain": [
       "<Figure size 1080x720 with 1 Axes>"
      ]
     },
     "metadata": {
      "needs_background": "light"
     },
     "output_type": "display_data"
    }
   ],
   "source": [
    "# Your code here\n",
    "fig, ax = plt.subplots(figsize=(15,10))\n",
    "\n",
    "ax.scatter(X, y, label='Raw Data Points')\n",
    "\n",
    "models = [model_2, model_4, model_8]\n",
    "dfs = [X2, X_4, X_8]\n",
    "\n",
    "for i, x in enumerate(models):\n",
    "    ax.plot(X, x.predict(sm.add_constant(dfs[i])), \n",
    "            label = f\"{dfs[i].columns[-1:][0].title()}\", linewidth = 5, alpha=.7)\n",
    "    print((i+1))\n",
    "\n",
    "ax.legend();"
   ]
  },
  {
   "cell_type": "markdown",
   "metadata": {},
   "source": [
    "### Interpret Findings\n",
    "\n",
    "Based on the metrics as well as the graphs, which model do you think is the best? Why?"
   ]
  },
  {
   "cell_type": "code",
   "execution_count": 84,
   "metadata": {
    "ExecuteTime": {
     "end_time": "2022-12-06T04:18:49.092643Z",
     "start_time": "2022-12-06T04:18:49.080671Z"
    }
   },
   "outputs": [
    {
     "data": {
      "text/plain": [
       "'\\nThe quadratic model (polynomial degree 2) is definitely not the best based on all of the evidence we have. It has the worst R-Squared, the coefficient p-values are not significant, and you can see from the graph that there is a lot of variance in the data that it is not picking up on.\\n\\nOur visual inspection aligns with the worse R-Squared for the 4th degree polynomial compared to the 8th degree polynomial. The 4th degree polynomial is flatter and doesn\\'t seem to capture the extremes of the data as well.\\n\\nHowever if we wanted to interpret the coefficients, then only the 4th degree polynomial has statistically significant results. The interpretation would be challenging because of the number of terms, but we could apply some calculus techniques to describe inflection points.\\n\\nOverall it appears that this dataset is not particularly well suited to an inferential linear regression approach, even with polynomial transformations. So the \"best\" model could be either the 4th or 8th degree polynomial depending on which aspect of the model is more important to you, but either way it will be challenging to translate it into insights for stakeholders.\\n'"
      ]
     },
     "execution_count": 84,
     "metadata": {},
     "output_type": "execute_result"
    }
   ],
   "source": [
    "# Your written answer here\n",
    "'''\n",
    "The quadratic model (polynomial degree 2) is definitely not the best based on \n",
    "all of the evidence we have. It has the worst R-Squared, the coefficient \n",
    "p-values are not significant, and you can see from the graph that there is a \n",
    "lot of variance in the data that it is not picking up on.\n",
    "\n",
    "Our visual inspection aligns with the worse R-Squared for the 4th degree \n",
    "polynomial compared to the 8th degree polynomial. The 4th degree polynomial is\n",
    "flatter and doesn't seem to capture the extremes of the data as well.\n",
    "\n",
    "However if we wanted to interpret the coefficients, then only the 4th degree \n",
    "polynomial has statistically significant results. The interpretation would be \n",
    "challenging because of the number of terms, but we could apply some calculus \n",
    "techniques to describe inflection points.\n",
    "\n",
    "Overall it appears that this dataset is not particularly well suited to an \n",
    "inferential linear regression approach, even with polynomial transformations. \n",
    "So the \"best\" model could be either the 4th or 8th degree polynomial depending\n",
    "on which aspect of the model is more important to you, but either way it will \n",
    "be challenging to translate it into insights for stakeholders.\n",
    "'''"
   ]
  },
  {
   "cell_type": "markdown",
   "metadata": {},
   "source": [
    "<details>\n",
    "    <summary style=\"cursor: pointer\"><b>Answer (click to reveal)</b></summary>\n",
    "    \n",
    "The quadratic model (polynomial degree 2) is definitely not the best based on all of the evidence we have. It has the worst R-Squared, the coefficient p-values are not significant, and you can see from the graph that there is a lot of variance in the data that it is not picking up on.\n",
    "\n",
    "Our visual inspection aligns with the worse R-Squared for the 4th degree polynomial compared to the 8th degree polynomial. The 4th degree polynomial is flatter and doesn't seem to capture the extremes of the data as well.\n",
    "    \n",
    "However if we wanted to interpret the coefficients, then only the 4th degree polynomial has statistically significant results. The interpretation would be challenging because of the number of terms, but we could apply some calculus techniques to describe inflection points.\n",
    "\n",
    "Overall it appears that this dataset is not particularly well suited to an inferential linear regression approach, even with polynomial transformations. So the \"best\" model could be either the 4th or 8th degree polynomial depending on which aspect of the model is more important to you, but either way it will be challenging to translate it into insights for stakeholders.\n",
    "    \n",
    "</details>"
   ]
  },
  {
   "cell_type": "markdown",
   "metadata": {},
   "source": [
    "## Summary"
   ]
  },
  {
   "cell_type": "markdown",
   "metadata": {},
   "source": [
    "Great job! You now know how to include polynomials in your linear models as well as the limitations of applying polynomial regression. "
   ]
  }
 ],
 "metadata": {
  "kernelspec": {
   "display_name": "Python (learn-env)",
   "language": "python",
   "name": "learn-env"
  },
  "language_info": {
   "codemirror_mode": {
    "name": "ipython",
    "version": 3
   },
   "file_extension": ".py",
   "mimetype": "text/x-python",
   "name": "python",
   "nbconvert_exporter": "python",
   "pygments_lexer": "ipython3",
   "version": "3.8.5"
  },
  "varInspector": {
   "cols": {
    "lenName": 16,
    "lenType": 16,
    "lenVar": 40
   },
   "kernels_config": {
    "python": {
     "delete_cmd_postfix": "",
     "delete_cmd_prefix": "del ",
     "library": "var_list.py",
     "varRefreshCmd": "print(var_dic_list())"
    },
    "r": {
     "delete_cmd_postfix": ") ",
     "delete_cmd_prefix": "rm(",
     "library": "var_list.r",
     "varRefreshCmd": "cat(var_dic_list()) "
    }
   },
   "types_to_exclude": [
    "module",
    "function",
    "builtin_function_or_method",
    "instance",
    "_Feature"
   ],
   "window_display": false
  }
 },
 "nbformat": 4,
 "nbformat_minor": 2
}
